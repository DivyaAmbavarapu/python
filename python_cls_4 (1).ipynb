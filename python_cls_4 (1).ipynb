{
  "cells": [
    {
      "cell_type": "code",
      "source": [
        "d={\"key\":10,\"key\":20}"
      ],
      "metadata": {
        "id": "nkY6JpUzPyFs"
      },
      "execution_count": null,
      "outputs": []
    },
    {
      "cell_type": "code",
      "source": [
        "d"
      ],
      "metadata": {
        "id": "4fMvO9z0PyCH",
        "outputId": "67483533-4b51-42df-f8c3-b4361ac08386",
        "colab": {
          "base_uri": "https://localhost:8080/"
        }
      },
      "execution_count": null,
      "outputs": [
        {
          "output_type": "execute_result",
          "data": {
            "text/plain": [
              "{'key': 20}"
            ]
          },
          "metadata": {},
          "execution_count": 2
        }
      ]
    },
    {
      "cell_type": "code",
      "source": [
        "{'key':20}"
      ],
      "metadata": {
        "id": "hLEhx1y1Px_b",
        "outputId": "8774fee0-9011-4b33-a466-e74a02a48ff2",
        "colab": {
          "base_uri": "https://localhost:8080/"
        }
      },
      "execution_count": null,
      "outputs": [
        {
          "output_type": "execute_result",
          "data": {
            "text/plain": [
              "{'key': 20}"
            ]
          },
          "metadata": {},
          "execution_count": 3
        }
      ]
    },
    {
      "cell_type": "code",
      "source": [
        "type(d)"
      ],
      "metadata": {
        "id": "23V7UjqgPx8t",
        "outputId": "661db1d9-11d4-4b79-f7cc-df789d773484",
        "colab": {
          "base_uri": "https://localhost:8080/"
        }
      },
      "execution_count": null,
      "outputs": [
        {
          "output_type": "execute_result",
          "data": {
            "text/plain": [
              "dict"
            ]
          },
          "metadata": {},
          "execution_count": 4
        }
      ]
    },
    {
      "cell_type": "code",
      "source": [
        "d={10:[10,20,30]}"
      ],
      "metadata": {
        "id": "w-EZbcLFPx6G"
      },
      "execution_count": null,
      "outputs": []
    },
    {
      "cell_type": "code",
      "source": [
        "d"
      ],
      "metadata": {
        "id": "m_htouRRPx3F",
        "outputId": "2a07704d-3a17-455b-c655-907e8f4b07ab",
        "colab": {
          "base_uri": "https://localhost:8080/"
        }
      },
      "execution_count": null,
      "outputs": [
        {
          "output_type": "execute_result",
          "data": {
            "text/plain": [
              "{10: [10, 20, 30]}"
            ]
          },
          "metadata": {},
          "execution_count": 6
        }
      ]
    },
    {
      "cell_type": "code",
      "source": [
        "my_dict = {\n",
        "    \"name\":\"Alice\",\n",
        "    \"age\":20,\n",
        "    \"location\":\"Banglore\"\n",
        "}"
      ],
      "metadata": {
        "id": "nyt69AwRPx0L"
      },
      "execution_count": null,
      "outputs": []
    },
    {
      "cell_type": "code",
      "source": [
        "my_dict[\"location\"]"
      ],
      "metadata": {
        "id": "BJ-d-TN7PxxO",
        "outputId": "cf377e0b-0219-465d-bff6-3e15f9dc15cc",
        "colab": {
          "base_uri": "https://localhost:8080/",
          "height": 35
        }
      },
      "execution_count": null,
      "outputs": [
        {
          "output_type": "execute_result",
          "data": {
            "text/plain": [
              "'Banglore'"
            ],
            "application/vnd.google.colaboratory.intrinsic+json": {
              "type": "string"
            }
          },
          "metadata": {},
          "execution_count": 9
        }
      ]
    },
    {
      "cell_type": "code",
      "source": [
        "my_dict"
      ],
      "metadata": {
        "id": "iLsy1dk8Pxun",
        "outputId": "14d8fe96-3a01-4b62-ef9e-4adfdb4d6f63",
        "colab": {
          "base_uri": "https://localhost:8080/"
        }
      },
      "execution_count": null,
      "outputs": [
        {
          "output_type": "execute_result",
          "data": {
            "text/plain": [
              "{'name': 'Alice', 'age': 20, 'location': 'Banglore'}"
            ]
          },
          "metadata": {},
          "execution_count": 10
        }
      ]
    },
    {
      "cell_type": "code",
      "source": [
        "mixed_dict = {\n",
        "    \"name\":\"Alice\",\n",
        "    101:[80,85,90],\n",
        "    3.14:{\"unit\":\"pi\"},\n",
        "    True:\"Active\"}"
      ],
      "metadata": {
        "id": "1rqKQpRZPxsF"
      },
      "execution_count": null,
      "outputs": []
    },
    {
      "cell_type": "code",
      "source": [
        "mixed_dict"
      ],
      "metadata": {
        "id": "HrUN7s_QPxpZ",
        "outputId": "80f0ea5f-1f76-4693-ad33-d62ba314961f",
        "colab": {
          "base_uri": "https://localhost:8080/"
        }
      },
      "execution_count": null,
      "outputs": [
        {
          "output_type": "execute_result",
          "data": {
            "text/plain": [
              "{'name': 'Alice', 101: [80, 85, 90], 3.14: {'unit': 'pi'}, True: 'Active'}"
            ]
          },
          "metadata": {},
          "execution_count": 13
        }
      ]
    },
    {
      "cell_type": "code",
      "source": [
        "mixed_dict[101][-1]"
      ],
      "metadata": {
        "id": "zLbjDJTVPxmu",
        "outputId": "49de451b-ec01-47b4-e494-a7a839933ed9",
        "colab": {
          "base_uri": "https://localhost:8080/"
        }
      },
      "execution_count": null,
      "outputs": [
        {
          "output_type": "execute_result",
          "data": {
            "text/plain": [
              "90"
            ]
          },
          "metadata": {},
          "execution_count": 14
        }
      ]
    },
    {
      "cell_type": "code",
      "source": [
        "employee = {\n",
        "    \"id\": 1007,\n",
        "    \"name\": \"Priya Sharma\",\n",
        "    \"department\": {\n",
        "        \"name\": \"Data Science\",\n",
        "        \"location\": \"Hyderabad\",\n",
        "        \"floor\": 3\n",
        "    },\n",
        "    \"is_active\": True\n",
        "}"
      ],
      "metadata": {
        "id": "wV3so8fPPxkI"
      },
      "execution_count": null,
      "outputs": []
    },
    {
      "cell_type": "code",
      "source": [
        "employee['department']['location']"
      ],
      "metadata": {
        "id": "9zqiOZVaPxhO",
        "outputId": "f0f79117-ceb0-43a8-a368-101c6c1fba09",
        "colab": {
          "base_uri": "https://localhost:8080/",
          "height": 35
        }
      },
      "execution_count": null,
      "outputs": [
        {
          "output_type": "execute_result",
          "data": {
            "text/plain": [
              "'Hyderabad'"
            ],
            "application/vnd.google.colaboratory.intrinsic+json": {
              "type": "string"
            }
          },
          "metadata": {},
          "execution_count": 16
        }
      ]
    },
    {
      "cell_type": "code",
      "source": [
        "temp={\n",
        "   \"lat\":33.44,\n",
        "   \"lon\":-94.04,\n",
        "   \"timezone\":\"America/Chicago\",\n",
        "   \"timezone_offset\":-18000,\n",
        "   \"current\":{\n",
        "      \"dt\":1684929490,\n",
        "      \"sunrise\":1684926645,\n",
        "      \"sunset\":1684977332,\n",
        "      \"temp\":292.55,\n",
        "      \"feels_like\":292.87,\n",
        "      \"pressure\":1014,\n",
        "      \"humidity\":89,\n",
        "      \"dew_point\":290.69,\n",
        "      \"uvi\":0.16,\n",
        "      \"clouds\":53,\n",
        "      \"visibility\":10000,\n",
        "      \"wind_speed\":3.13,\n",
        "      \"wind_deg\":93,\n",
        "      \"wind_gust\":6.71,\n",
        "      \"weather\":[\n",
        "         {\n",
        "            \"id\":803,\n",
        "            \"main\":\"Clouds\",\n",
        "            \"description\":\"broken clouds\",\n",
        "            \"icon\":\"04d\"\n",
        "         }\n",
        "      ]\n",
        "   } }"
      ],
      "metadata": {
        "id": "URVs2VGGTjQw"
      },
      "execution_count": null,
      "outputs": []
    },
    {
      "cell_type": "code",
      "source": [
        "temp"
      ],
      "metadata": {
        "id": "ErbD28V3TjNW",
        "outputId": "7dc2c57e-d7df-4074-9e2a-2a923c70e01d",
        "colab": {
          "base_uri": "https://localhost:8080/"
        }
      },
      "execution_count": null,
      "outputs": [
        {
          "output_type": "execute_result",
          "data": {
            "text/plain": [
              "{'lat': 33.44,\n",
              " 'lon': -94.04,\n",
              " 'timezone': 'America/Chicago',\n",
              " 'timezone_offset': -18000,\n",
              " 'current': {'dt': 1684929490,\n",
              "  'sunrise': 1684926645,\n",
              "  'sunset': 1684977332,\n",
              "  'temp': 292.55,\n",
              "  'feels_like': 292.87,\n",
              "  'pressure': 1014,\n",
              "  'humidity': 89,\n",
              "  'dew_point': 290.69,\n",
              "  'uvi': 0.16,\n",
              "  'clouds': 53,\n",
              "  'visibility': 10000,\n",
              "  'wind_speed': 3.13,\n",
              "  'wind_deg': 93,\n",
              "  'wind_gust': 6.71,\n",
              "  'weather': [{'id': 803,\n",
              "    'main': 'Clouds',\n",
              "    'description': 'broken clouds',\n",
              "    'icon': '04d'}]}}"
            ]
          },
          "metadata": {},
          "execution_count": 18
        }
      ]
    },
    {
      "cell_type": "code",
      "source": [
        "temp['current']['weather'][0]['icon']"
      ],
      "metadata": {
        "id": "fZwmyHb2TjKV",
        "outputId": "019e06d8-8217-4900-995f-c84acdbd21ec",
        "colab": {
          "base_uri": "https://localhost:8080/",
          "height": 35
        }
      },
      "execution_count": null,
      "outputs": [
        {
          "output_type": "execute_result",
          "data": {
            "text/plain": [
              "'04d'"
            ],
            "application/vnd.google.colaboratory.intrinsic+json": {
              "type": "string"
            }
          },
          "metadata": {},
          "execution_count": 22
        }
      ]
    },
    {
      "cell_type": "code",
      "source": [
        "temp"
      ],
      "metadata": {
        "id": "p1GxtQjzTjHx",
        "outputId": "adc20da9-631d-4c26-f364-6eb4f03f3611",
        "colab": {
          "base_uri": "https://localhost:8080/"
        }
      },
      "execution_count": null,
      "outputs": [
        {
          "output_type": "execute_result",
          "data": {
            "text/plain": [
              "{'lat': 33.44,\n",
              " 'lon': -94.04,\n",
              " 'timezone': 'America/Chicago',\n",
              " 'timezone_offset': -18000,\n",
              " 'current': {'dt': 1684929490,\n",
              "  'sunrise': 1684926645,\n",
              "  'sunset': 1684977332,\n",
              "  'temp': 292.55,\n",
              "  'feels_like': 292.87,\n",
              "  'pressure': 1014,\n",
              "  'humidity': 89,\n",
              "  'dew_point': 290.69,\n",
              "  'uvi': 0.16,\n",
              "  'clouds': 53,\n",
              "  'visibility': 10000,\n",
              "  'wind_speed': 3.13,\n",
              "  'wind_deg': 93,\n",
              "  'wind_gust': 6.71,\n",
              "  'weather': [{'id': 803,\n",
              "    'main': 'Clouds',\n",
              "    'description': 'broken clouds',\n",
              "    'icon': '04d'}]}}"
            ]
          },
          "metadata": {},
          "execution_count": 23
        }
      ]
    },
    {
      "cell_type": "code",
      "source": [
        "temp['current']['weather'][0]['main'].upper()"
      ],
      "metadata": {
        "id": "1Jux-HZZTjE4",
        "outputId": "5cc5581a-51c1-4603-a6ab-8e4093d5dfa9",
        "colab": {
          "base_uri": "https://localhost:8080/",
          "height": 35
        }
      },
      "execution_count": null,
      "outputs": [
        {
          "output_type": "execute_result",
          "data": {
            "text/plain": [
              "'CLOUDS'"
            ],
            "application/vnd.google.colaboratory.intrinsic+json": {
              "type": "string"
            }
          },
          "metadata": {},
          "execution_count": 25
        }
      ]
    },
    {
      "cell_type": "code",
      "source": [
        "temp['current']['wind_speed']"
      ],
      "metadata": {
        "id": "_qNsWZcwTjCC",
        "outputId": "cdedfd3b-8df1-4381-ee58-d5a5e9e48e53",
        "colab": {
          "base_uri": "https://localhost:8080/"
        }
      },
      "execution_count": null,
      "outputs": [
        {
          "output_type": "execute_result",
          "data": {
            "text/plain": [
              "3.13"
            ]
          },
          "metadata": {},
          "execution_count": 26
        }
      ]
    },
    {
      "cell_type": "code",
      "source": [
        "d={\n",
        "    \"name\":\"Alice\",\n",
        "    \"age\":25,\n",
        "    \"location\":\"Banglore\"\n",
        "}"
      ],
      "metadata": {
        "id": "od7fe4j1Ti_d"
      },
      "execution_count": null,
      "outputs": []
    },
    {
      "cell_type": "code",
      "source": [
        "d.values()"
      ],
      "metadata": {
        "id": "J_f9KGlRTi9a",
        "outputId": "b895ef69-9d74-476f-cdd0-ec9b072d9ea2",
        "colab": {
          "base_uri": "https://localhost:8080/"
        }
      },
      "execution_count": null,
      "outputs": [
        {
          "output_type": "execute_result",
          "data": {
            "text/plain": [
              "dict_values(['Alice', 25, 'Banglore'])"
            ]
          },
          "metadata": {},
          "execution_count": 28
        }
      ]
    },
    {
      "cell_type": "code",
      "source": [
        "temp.values()"
      ],
      "metadata": {
        "id": "FNYWRTPHTi6-",
        "outputId": "2f44dfca-b27a-4a88-fc82-0a8ae7a46107",
        "colab": {
          "base_uri": "https://localhost:8080/"
        }
      },
      "execution_count": null,
      "outputs": [
        {
          "output_type": "execute_result",
          "data": {
            "text/plain": [
              "dict_values([33.44, -94.04, 'America/Chicago', -18000, {'dt': 1684929490, 'sunrise': 1684926645, 'sunset': 1684977332, 'temp': 292.55, 'feels_like': 292.87, 'pressure': 1014, 'humidity': 89, 'dew_point': 290.69, 'uvi': 0.16, 'clouds': 53, 'visibility': 10000, 'wind_speed': 3.13, 'wind_deg': 93, 'wind_gust': 6.71, 'weather': [{'id': 803, 'main': 'Clouds', 'description': 'broken clouds', 'icon': '04d'}]}])"
            ]
          },
          "metadata": {},
          "execution_count": 29
        }
      ]
    },
    {
      "cell_type": "code",
      "source": [
        "d.keys()"
      ],
      "metadata": {
        "id": "P3RwrvwWTi4L",
        "outputId": "e821f598-e9f1-4386-d954-f62d13da37bf",
        "colab": {
          "base_uri": "https://localhost:8080/"
        }
      },
      "execution_count": null,
      "outputs": [
        {
          "output_type": "execute_result",
          "data": {
            "text/plain": [
              "dict_keys(['name', 'age', 'location'])"
            ]
          },
          "metadata": {},
          "execution_count": 30
        }
      ]
    },
    {
      "cell_type": "code",
      "source": [
        "d.items()"
      ],
      "metadata": {
        "id": "LY73bF8ITi1z",
        "outputId": "f62a7f19-6558-4972-ddaa-9716af7b23b6",
        "colab": {
          "base_uri": "https://localhost:8080/"
        }
      },
      "execution_count": null,
      "outputs": [
        {
          "output_type": "execute_result",
          "data": {
            "text/plain": [
              "dict_items([('name', 'Alice'), ('age', 25), ('location', 'Banglore')])"
            ]
          },
          "metadata": {},
          "execution_count": 31
        }
      ]
    },
    {
      "cell_type": "code",
      "source": [
        "d.get(\"age\")"
      ],
      "metadata": {
        "id": "o7Bhv9TcVoIq",
        "outputId": "e1e7a653-876d-42cd-e234-14dbb43b77d0",
        "colab": {
          "base_uri": "https://localhost:8080/"
        }
      },
      "execution_count": null,
      "outputs": [
        {
          "output_type": "execute_result",
          "data": {
            "text/plain": [
              "25"
            ]
          },
          "metadata": {},
          "execution_count": 33
        }
      ]
    },
    {
      "cell_type": "code",
      "source": [
        "d={\n",
        "    \"name\":\"Alice\",\n",
        "    \"age\":25,\n",
        "    \"location\":\"Banglore\"\n",
        "}"
      ],
      "metadata": {
        "id": "gN_G_fDBVoFA"
      },
      "execution_count": null,
      "outputs": []
    },
    {
      "cell_type": "code",
      "source": [
        "d['name']"
      ],
      "metadata": {
        "id": "bMGIVjuwVoCc",
        "outputId": "8fac72c0-6654-4ff7-ecac-c79597255eec",
        "colab": {
          "base_uri": "https://localhost:8080/",
          "height": 35
        }
      },
      "execution_count": null,
      "outputs": [
        {
          "output_type": "execute_result",
          "data": {
            "text/plain": [
              "'Alice'"
            ],
            "application/vnd.google.colaboratory.intrinsic+json": {
              "type": "string"
            }
          },
          "metadata": {},
          "execution_count": 37
        }
      ]
    },
    {
      "cell_type": "code",
      "source": [
        "d.update({\"name\":\"abc\"})"
      ],
      "metadata": {
        "id": "uASU_zngVoAT"
      },
      "execution_count": null,
      "outputs": []
    },
    {
      "cell_type": "code",
      "source": [
        "d"
      ],
      "metadata": {
        "id": "Uexkb5uFVn-4",
        "outputId": "d7beeaee-dd7c-4aaa-9e62-83f293012716",
        "colab": {
          "base_uri": "https://localhost:8080/"
        }
      },
      "execution_count": null,
      "outputs": [
        {
          "output_type": "execute_result",
          "data": {
            "text/plain": [
              "{'name': 'abc', 'age': 25, 'location': 'Banglore'}"
            ]
          },
          "metadata": {},
          "execution_count": 39
        }
      ]
    },
    {
      "cell_type": "code",
      "source": [
        "d.pop('age')"
      ],
      "metadata": {
        "id": "pfxp-vA4Vn7q",
        "outputId": "47b6f938-fa2c-4971-8d50-737652beaa90",
        "colab": {
          "base_uri": "https://localhost:8080/"
        }
      },
      "execution_count": null,
      "outputs": [
        {
          "output_type": "execute_result",
          "data": {
            "text/plain": [
              "25"
            ]
          },
          "metadata": {},
          "execution_count": 41
        }
      ]
    },
    {
      "cell_type": "code",
      "source": [
        "d.clear()"
      ],
      "metadata": {
        "id": "b0H5d1DDVn32"
      },
      "execution_count": null,
      "outputs": []
    },
    {
      "cell_type": "code",
      "source": [
        "d"
      ],
      "metadata": {
        "id": "MiE2obARWvhd",
        "outputId": "f00522c7-7490-4f18-8eb8-a3784441c292",
        "colab": {
          "base_uri": "https://localhost:8080/"
        }
      },
      "execution_count": null,
      "outputs": [
        {
          "output_type": "execute_result",
          "data": {
            "text/plain": [
              "{}"
            ]
          },
          "metadata": {},
          "execution_count": 43
        }
      ]
    },
    {
      "cell_type": "code",
      "source": [
        "del d"
      ],
      "metadata": {
        "id": "IVsQ_tamWveK"
      },
      "execution_count": null,
      "outputs": []
    },
    {
      "cell_type": "code",
      "source": [
        "d"
      ],
      "metadata": {
        "id": "ghmuAeGxWvcD",
        "outputId": "85c3fa34-03c8-4c81-fe79-f5537a079ffd",
        "colab": {
          "base_uri": "https://localhost:8080/",
          "height": 141
        }
      },
      "execution_count": null,
      "outputs": [
        {
          "output_type": "error",
          "ename": "NameError",
          "evalue": "name 'd' is not defined",
          "traceback": [
            "\u001b[0;31m---------------------------------------------------------------------------\u001b[0m",
            "\u001b[0;31mNameError\u001b[0m                                 Traceback (most recent call last)",
            "\u001b[0;32m<ipython-input-45-e983f374794d>\u001b[0m in \u001b[0;36m<cell line: 0>\u001b[0;34m()\u001b[0m\n\u001b[0;32m----> 1\u001b[0;31m \u001b[0md\u001b[0m\u001b[0;34m\u001b[0m\u001b[0;34m\u001b[0m\u001b[0m\n\u001b[0m",
            "\u001b[0;31mNameError\u001b[0m: name 'd' is not defined"
          ]
        }
      ]
    },
    {
      "cell_type": "code",
      "source": [
        "d={\n",
        "    \"name\":\"Alice\",\n",
        "    \"age\":25,\n",
        "    \"location\":\"Banglore\"\n",
        "}"
      ],
      "metadata": {
        "id": "S9SsfUW8WvZW"
      },
      "execution_count": null,
      "outputs": []
    },
    {
      "cell_type": "code",
      "source": [
        "d"
      ],
      "metadata": {
        "id": "B90cJCtqWvW_",
        "outputId": "6d871e42-85a4-4b14-814b-639949a92765",
        "colab": {
          "base_uri": "https://localhost:8080/"
        }
      },
      "execution_count": null,
      "outputs": [
        {
          "output_type": "execute_result",
          "data": {
            "text/plain": [
              "{'name': 'Alice', 'age': 25, 'location': 'Banglore'}"
            ]
          },
          "metadata": {},
          "execution_count": 47
        }
      ]
    },
    {
      "cell_type": "code",
      "source": [
        "d.popitem()"
      ],
      "metadata": {
        "id": "rZYNDBpmWvUX",
        "outputId": "ef64ef8b-4ea0-4308-8707-a22315ea7dc7",
        "colab": {
          "base_uri": "https://localhost:8080/"
        }
      },
      "execution_count": null,
      "outputs": [
        {
          "output_type": "execute_result",
          "data": {
            "text/plain": [
              "('location', 'Banglore')"
            ]
          },
          "metadata": {},
          "execution_count": 48
        }
      ]
    },
    {
      "cell_type": "code",
      "source": [
        "d"
      ],
      "metadata": {
        "id": "qisVf2NLWvSZ",
        "outputId": "488c8bcc-1b4c-401c-fab0-ab57a8970a76",
        "colab": {
          "base_uri": "https://localhost:8080/"
        }
      },
      "execution_count": null,
      "outputs": [
        {
          "output_type": "execute_result",
          "data": {
            "text/plain": [
              "{'name': 'Alice', 'age': 25}"
            ]
          },
          "metadata": {},
          "execution_count": 49
        }
      ]
    },
    {
      "cell_type": "code",
      "source": [
        "isinstance(d['age'],int)"
      ],
      "metadata": {
        "id": "yOiErZwYWvQK",
        "outputId": "d97b24b1-5199-4e1d-eb06-565d0e5510c8",
        "colab": {
          "base_uri": "https://localhost:8080/"
        }
      },
      "execution_count": null,
      "outputs": [
        {
          "output_type": "execute_result",
          "data": {
            "text/plain": [
              "True"
            ]
          },
          "metadata": {},
          "execution_count": 50
        }
      ]
    },
    {
      "cell_type": "code",
      "source": [
        "x=[1,2,3,4]"
      ],
      "metadata": {
        "id": "6TXerSzwWvOC"
      },
      "execution_count": null,
      "outputs": []
    },
    {
      "cell_type": "code",
      "source": [
        "y=[1,2,3,4]"
      ],
      "metadata": {
        "id": "-pYmyzd8WvKS"
      },
      "execution_count": null,
      "outputs": []
    },
    {
      "cell_type": "code",
      "source": [
        "x[0]=111\n",
        "x"
      ],
      "metadata": {
        "id": "jtk9qFHwX1K8",
        "outputId": "a3b012b0-9166-461d-a379-1a3343530d49",
        "colab": {
          "base_uri": "https://localhost:8080/"
        }
      },
      "execution_count": null,
      "outputs": [
        {
          "output_type": "execute_result",
          "data": {
            "text/plain": [
              "[111, 2, 3, 4]"
            ]
          },
          "metadata": {},
          "execution_count": 54
        }
      ]
    },
    {
      "cell_type": "code",
      "source": [
        "y[0]=111\n",
        "y"
      ],
      "metadata": {
        "id": "HNymp0HEX1HZ",
        "outputId": "e2f0a9bb-1bb0-4d59-bba9-f3faa3710e44",
        "colab": {
          "base_uri": "https://localhost:8080/"
        }
      },
      "execution_count": null,
      "outputs": [
        {
          "output_type": "execute_result",
          "data": {
            "text/plain": [
              "[111, 2, 3, 4]"
            ]
          },
          "metadata": {},
          "execution_count": 56
        }
      ]
    },
    {
      "cell_type": "code",
      "source": [
        "y=(1,1,1,1,2,3,4)\n",
        "y.count(1)"
      ],
      "metadata": {
        "id": "X49CTA3CX1FK",
        "outputId": "7629e5da-da3f-4089-8847-755b7506e7d4",
        "colab": {
          "base_uri": "https://localhost:8080/"
        }
      },
      "execution_count": null,
      "outputs": [
        {
          "output_type": "execute_result",
          "data": {
            "text/plain": [
              "4"
            ]
          },
          "metadata": {},
          "execution_count": 57
        }
      ]
    },
    {
      "cell_type": "code",
      "source": [
        "y=(2,3,4,5,1,1,1,1,3,4)\n",
        "y.index(1)"
      ],
      "metadata": {
        "id": "p6h-JL5mX1Cn",
        "outputId": "07c91d42-9726-407b-a30c-95f444a0fb00",
        "colab": {
          "base_uri": "https://localhost:8080/"
        }
      },
      "execution_count": null,
      "outputs": [
        {
          "output_type": "execute_result",
          "data": {
            "text/plain": [
              "4"
            ]
          },
          "metadata": {},
          "execution_count": 58
        }
      ]
    },
    {
      "cell_type": "code",
      "source": [
        "x={11,12,32,15,16}\n",
        "x.add(20)\n",
        "x"
      ],
      "metadata": {
        "id": "biwknx_IYPv_",
        "outputId": "628c3b6b-aeae-4ffc-c2e7-9a3b04b5c63e",
        "colab": {
          "base_uri": "https://localhost:8080/"
        }
      },
      "execution_count": null,
      "outputs": [
        {
          "output_type": "execute_result",
          "data": {
            "text/plain": [
              "{11, 12, 15, 16, 20, 32}"
            ]
          },
          "metadata": {},
          "execution_count": 61
        }
      ]
    },
    {
      "cell_type": "code",
      "source": [
        "y=frozenset([11,2,3,1,2])\n"
      ],
      "metadata": {
        "id": "sJudVFKLYPs7"
      },
      "execution_count": null,
      "outputs": []
    },
    {
      "cell_type": "code",
      "source": [
        "y"
      ],
      "metadata": {
        "id": "LQjf8eklYPqz",
        "outputId": "946f3dad-b125-4b05-9717-27ef9d266117",
        "colab": {
          "base_uri": "https://localhost:8080/"
        }
      },
      "execution_count": null,
      "outputs": [
        {
          "output_type": "execute_result",
          "data": {
            "text/plain": [
              "frozenset({1, 2, 3, 11})"
            ]
          },
          "metadata": {},
          "execution_count": 69
        }
      ]
    },
    {
      "cell_type": "code",
      "source": [
        "y.add(20)"
      ],
      "metadata": {
        "id": "w7YJnkAYYPoF",
        "outputId": "2c6deaeb-13a4-489d-a801-f7593edd2d63",
        "colab": {
          "base_uri": "https://localhost:8080/",
          "height": 141
        }
      },
      "execution_count": null,
      "outputs": [
        {
          "output_type": "error",
          "ename": "AttributeError",
          "evalue": "'frozenset' object has no attribute 'add'",
          "traceback": [
            "\u001b[0;31m---------------------------------------------------------------------------\u001b[0m",
            "\u001b[0;31mAttributeError\u001b[0m                            Traceback (most recent call last)",
            "\u001b[0;32m<ipython-input-70-6c9919cbc5b4>\u001b[0m in \u001b[0;36m<cell line: 0>\u001b[0;34m()\u001b[0m\n\u001b[0;32m----> 1\u001b[0;31m \u001b[0my\u001b[0m\u001b[0;34m.\u001b[0m\u001b[0madd\u001b[0m\u001b[0;34m(\u001b[0m\u001b[0;36m20\u001b[0m\u001b[0;34m)\u001b[0m\u001b[0;34m\u001b[0m\u001b[0;34m\u001b[0m\u001b[0m\n\u001b[0m",
            "\u001b[0;31mAttributeError\u001b[0m: 'frozenset' object has no attribute 'add'"
          ]
        }
      ]
    },
    {
      "cell_type": "code",
      "source": [],
      "metadata": {
        "id": "bM9tZ_aWYPmD"
      },
      "execution_count": null,
      "outputs": []
    },
    {
      "cell_type": "code",
      "source": [],
      "metadata": {
        "id": "Fug4deGEYPki"
      },
      "execution_count": null,
      "outputs": []
    },
    {
      "cell_type": "code",
      "source": [],
      "metadata": {
        "id": "jceeNoxfYPhX"
      },
      "execution_count": null,
      "outputs": []
    },
    {
      "cell_type": "code",
      "source": [],
      "metadata": {
        "id": "CZLYZ8-AYPdx"
      },
      "execution_count": null,
      "outputs": []
    }
  ],
  "metadata": {
    "colab": {
      "toc_visible": true,
      "provenance": []
    },
    "kernelspec": {
      "display_name": "Python 3",
      "name": "python3"
    }
  },
  "nbformat": 4,
  "nbformat_minor": 0
}